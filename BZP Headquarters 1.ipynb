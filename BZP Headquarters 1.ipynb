{
 "cells": [
  {
   "cell_type": "markdown",
   "id": "2ffabaad",
   "metadata": {},
   "source": [
    "Welcome to BZP Headquarters.\n",
    "Programming, Agency, and Biology Company.\n",
    "This is a Private Company and does not have a website yet.\n",
    "Let's begin Programming."
   ]
  },
  {
   "cell_type": "code",
   "execution_count": 7,
   "id": "d3cf7679",
   "metadata": {},
   "outputs": [],
   "source": [
    "L=[\"poop\",\"laughes\",\"while\",\"anshu\",\"stares\",\"at\",\"him\"]\n",
    "#sort\n",
    "L.sort()\n"
   ]
  },
  {
   "cell_type": "code",
   "execution_count": 1,
   "id": "110b32b3",
   "metadata": {},
   "outputs": [
    {
     "data": {
      "text/plain": [
       "{'a', 'b', 'c', 'd'}"
      ]
     },
     "execution_count": 1,
     "metadata": {},
     "output_type": "execute_result"
    }
   ],
   "source": [
    "L={\"a\",\"b\",\"c\",\"d\"}\n",
    "L"
   ]
  },
  {
   "cell_type": "code",
   "execution_count": 2,
   "id": "d7894bec",
   "metadata": {},
   "outputs": [
    {
     "data": {
      "text/plain": [
       "{'1', '2', '3', '4', 'a', 'b', 'c', 'd'}"
      ]
     },
     "execution_count": 2,
     "metadata": {},
     "output_type": "execute_result"
    }
   ],
   "source": [
    "L2={\"1\",\"2\",\"3\",\"4\"}\n",
    "L.update(L2)\n",
    "L"
   ]
  },
  {
   "cell_type": "code",
   "execution_count": 3,
   "id": "0c37a3d2",
   "metadata": {},
   "outputs": [],
   "source": [
    "rec=\"20\""
   ]
  },
  {
   "cell_type": "code",
   "execution_count": 4,
   "id": "fef60aab",
   "metadata": {},
   "outputs": [],
   "source": [
    "def addNumber(a,b):\n",
    "    return a+b"
   ]
  },
  {
   "cell_type": "code",
   "execution_count": 5,
   "id": "ec013534",
   "metadata": {},
   "outputs": [
    {
     "data": {
      "text/plain": [
       "20"
      ]
     },
     "execution_count": 5,
     "metadata": {},
     "output_type": "execute_result"
    }
   ],
   "source": [
    "addNumber(5,15)"
   ]
  },
  {
   "cell_type": "code",
   "execution_count": 6,
   "id": "bde696f3",
   "metadata": {},
   "outputs": [
    {
     "data": {
      "text/plain": [
       "['a', 'b', 'c', 'd']"
      ]
     },
     "execution_count": 6,
     "metadata": {},
     "output_type": "execute_result"
    }
   ],
   "source": [
    "L=[\"a\",\"b\",\"c\",\"d\"]\n",
    "L"
   ]
  },
  {
   "cell_type": "code",
   "execution_count": 7,
   "id": "90056b57",
   "metadata": {},
   "outputs": [
    {
     "data": {
      "text/plain": [
       "['a', 'b', 'c', 'd', 'e']"
      ]
     },
     "execution_count": 7,
     "metadata": {},
     "output_type": "execute_result"
    }
   ],
   "source": [
    "L.append(\"e\")\n",
    "L"
   ]
  },
  {
   "cell_type": "code",
   "execution_count": 8,
   "id": "275c2b2c",
   "metadata": {},
   "outputs": [],
   "source": [
    "H=[\"f\",\"g\",\"h\"]"
   ]
  },
  {
   "cell_type": "code",
   "execution_count": 9,
   "id": "9012d89e",
   "metadata": {},
   "outputs": [
    {
     "data": {
      "text/plain": [
       "['a', 'b', 'c', 'd', 'e', 'f', 'g', 'h']"
      ]
     },
     "execution_count": 9,
     "metadata": {},
     "output_type": "execute_result"
    }
   ],
   "source": [
    "L.extend(H)\n",
    "L"
   ]
  },
  {
   "cell_type": "code",
   "execution_count": null,
   "id": "3839e222",
   "metadata": {},
   "outputs": [],
   "source": []
  }
 ],
 "metadata": {
  "kernelspec": {
   "display_name": "Python 3",
   "language": "python",
   "name": "python3"
  },
  "language_info": {
   "codemirror_mode": {
    "name": "ipython",
    "version": 3
   },
   "file_extension": ".py",
   "mimetype": "text/x-python",
   "name": "python",
   "nbconvert_exporter": "python",
   "pygments_lexer": "ipython3",
   "version": "3.8.8"
  }
 },
 "nbformat": 4,
 "nbformat_minor": 5
}
